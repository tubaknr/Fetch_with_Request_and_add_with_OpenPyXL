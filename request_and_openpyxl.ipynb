{
  "nbformat": 4,
  "nbformat_minor": 0,
  "metadata": {
    "colab": {
      "name": "Untitled25.ipynb",
      "provenance": []
    },
    "kernelspec": {
      "name": "python3",
      "display_name": "Python 3"
    },
    "language_info": {
      "name": "python"
    }
  },
  "cells": [
    {
      "cell_type": "code",
      "source": [
        "import pprint\n",
        "from requests import get\n",
        "import json"
      ],
      "metadata": {
        "id": "eNFwtNxs4U8Y"
      },
      "execution_count": 45,
      "outputs": []
    },
    {
      "cell_type": "code",
      "source": [
        "ADD = [\"?q=girls\", \"?q=Star Trek\", \"?q=The Walking Dead\"]"
      ],
      "metadata": {
        "id": "GVgHammB9J0N"
      },
      "execution_count": 46,
      "outputs": []
    },
    {
      "cell_type": "code",
      "source": [
        "BASE = \" https://api.tvmaze.com/singlesearch/shows\"\n",
        "for add in ADD:\n",
        "  resp = get(BASE+add).json()\n",
        "  print(\"-------------------------------------------------\")\n",
        "  pprint.pprint(resp)"
      ],
      "metadata": {
        "colab": {
          "base_uri": "https://localhost:8080/"
        },
        "id": "aj_iwrWU8LFv",
        "outputId": "365b400e-739e-4f54-ee63-2f19c3a92ff5"
      },
      "execution_count": 47,
      "outputs": [
        {
          "output_type": "stream",
          "name": "stdout",
          "text": [
            "-------------------------------------------------\n",
            "{'_links': {'previousepisode': {'href': 'https://api.tvmaze.com/episodes/1079686'},\n",
            "            'self': {'href': 'https://api.tvmaze.com/shows/139'}},\n",
            " 'averageRuntime': 30,\n",
            " 'dvdCountry': None,\n",
            " 'ended': '2017-04-16',\n",
            " 'externals': {'imdb': 'tt1723816', 'thetvdb': 220411, 'tvrage': 30124},\n",
            " 'genres': ['Drama', 'Romance'],\n",
            " 'id': 139,\n",
            " 'image': {'medium': 'https://static.tvmaze.com/uploads/images/medium_portrait/31/78286.jpg',\n",
            "           'original': 'https://static.tvmaze.com/uploads/images/original_untouched/31/78286.jpg'},\n",
            " 'language': 'English',\n",
            " 'name': 'Girls',\n",
            " 'network': {'country': {'code': 'US',\n",
            "                         'name': 'United States',\n",
            "                         'timezone': 'America/New_York'},\n",
            "             'id': 8,\n",
            "             'name': 'HBO',\n",
            "             'officialSite': 'https://www.hbo.com/'},\n",
            " 'officialSite': 'http://www.hbo.com/girls',\n",
            " 'premiered': '2012-04-15',\n",
            " 'rating': {'average': 6.7},\n",
            " 'runtime': 30,\n",
            " 'schedule': {'days': ['Sunday'], 'time': '22:00'},\n",
            " 'status': 'Ended',\n",
            " 'summary': '<p>This Emmy winning series is a comic look at the assorted '\n",
            "            'humiliations and rare triumphs of a group of girls in their '\n",
            "            '20s.</p>',\n",
            " 'type': 'Scripted',\n",
            " 'updated': 1611310521,\n",
            " 'url': 'https://www.tvmaze.com/shows/139/girls',\n",
            " 'webChannel': None,\n",
            " 'weight': 98}\n",
            "-------------------------------------------------\n",
            "{'_links': {'previousepisode': {'href': 'https://api.tvmaze.com/episodes/44455'},\n",
            "            'self': {'href': 'https://api.tvmaze.com/shows/490'}},\n",
            " 'averageRuntime': 60,\n",
            " 'dvdCountry': None,\n",
            " 'ended': '1969-06-03',\n",
            " 'externals': {'imdb': 'tt0060028', 'thetvdb': 77526, 'tvrage': 5333},\n",
            " 'genres': ['Action', 'Adventure', 'Science-Fiction'],\n",
            " 'id': 490,\n",
            " 'image': {'medium': 'https://static.tvmaze.com/uploads/images/medium_portrait/292/730791.jpg',\n",
            "           'original': 'https://static.tvmaze.com/uploads/images/original_untouched/292/730791.jpg'},\n",
            " 'language': 'English',\n",
            " 'name': 'Star Trek',\n",
            " 'network': {'country': {'code': 'US',\n",
            "                         'name': 'United States',\n",
            "                         'timezone': 'America/New_York'},\n",
            "             'id': 1,\n",
            "             'name': 'NBC',\n",
            "             'officialSite': 'https://www.nbc.com/'},\n",
            " 'officialSite': None,\n",
            " 'premiered': '1966-09-08',\n",
            " 'rating': {'average': 8.4},\n",
            " 'runtime': 60,\n",
            " 'schedule': {'days': ['Friday'], 'time': '20:30'},\n",
            " 'status': 'Ended',\n",
            " 'summary': '<p>The original <b>Star Trek</b> series focuses on the 23rd '\n",
            "            'century adventures of Captain James T. Kirk and the U.S.S. '\n",
            "            '<i>Enterprise </i>(NCC-1701), a powerful interstellar spacecraft '\n",
            "            'dispatched by Earth-based Starfleet Command to explore the '\n",
            "            'galaxy. Kirk commands a crew of 430 men and women aboard his '\n",
            "            'starship, which can travel at speeds surpassing the speed of '\n",
            "            \"light. Kirk's five-year mission—and his mandate from Starfleet—is \"\n",
            "            'to seek out new life and new civilizations, and to boldly go '\n",
            "            'where no man has gone before.</p>',\n",
            " 'type': 'Scripted',\n",
            " 'updated': 1657135883,\n",
            " 'url': 'https://www.tvmaze.com/shows/490/star-trek',\n",
            " 'webChannel': None,\n",
            " 'weight': 98}\n",
            "-------------------------------------------------\n",
            "{'_links': {'previousepisode': {'href': 'https://api.tvmaze.com/episodes/2295050'},\n",
            "            'self': {'href': 'https://api.tvmaze.com/shows/73'}},\n",
            " 'averageRuntime': 62,\n",
            " 'dvdCountry': None,\n",
            " 'ended': None,\n",
            " 'externals': {'imdb': 'tt1520211', 'thetvdb': 153021, 'tvrage': 25056},\n",
            " 'genres': ['Drama', 'Action', 'Horror'],\n",
            " 'id': 73,\n",
            " 'image': {'medium': 'https://static.tvmaze.com/uploads/images/medium_portrait/396/990803.jpg',\n",
            "           'original': 'https://static.tvmaze.com/uploads/images/original_untouched/396/990803.jpg'},\n",
            " 'language': 'English',\n",
            " 'name': 'The Walking Dead',\n",
            " 'network': None,\n",
            " 'officialSite': 'https://www.amc.com/twdu/the-walking-dead',\n",
            " 'premiered': '2010-10-31',\n",
            " 'rating': {'average': 8},\n",
            " 'runtime': None,\n",
            " 'schedule': {'days': ['Thursday'], 'time': '21:00'},\n",
            " 'status': 'Running',\n",
            " 'summary': '<p><b>The Walking Dead</b> tells the story of the months and '\n",
            "            'years that follow after a zombie apocalypse. It follows a group '\n",
            "            'of survivors, led by former police officer Rick Grimes, who '\n",
            "            'travel in search of a safe and secure home. As the world overrun '\n",
            "            'by the dead takes its toll on the survivors, their interpersonal '\n",
            "            'conflicts present a greater danger to their continuing survival '\n",
            "            'than the walkers that roam the country. Over time, the characters '\n",
            "            'are changed by the constant exposure to death and some grow '\n",
            "            'willing to do anything to survive.</p><p>Based on the comic book '\n",
            "            'series of the same name by Robert Kirkman, Tony Moore, and '\n",
            "            'Charlie Adlard.</p>',\n",
            " 'type': 'Scripted',\n",
            " 'updated': 1656880606,\n",
            " 'url': 'https://www.tvmaze.com/shows/73/the-walking-dead',\n",
            " 'webChannel': {'country': {'code': 'US',\n",
            "                            'name': 'United States',\n",
            "                            'timezone': 'America/New_York'},\n",
            "                'id': 453,\n",
            "                'name': 'AMC+',\n",
            "                'officialSite': None},\n",
            " 'weight': 100}\n"
          ]
        }
      ]
    },
    {
      "cell_type": "code",
      "source": [
        "premiered = []\n",
        "ended = []\n",
        "rating = []\n",
        "genres = []\n",
        "\n",
        "for add in ADD:\n",
        "  data = get(BASE+add).json()\n",
        "  premiered.append(data[\"premiered\"])\n",
        "  ended.append(data[\"ended\"])\n",
        "  rating.append(data[\"rating\"])\n",
        "  genres.append(data[\"genres\"])"
      ],
      "metadata": {
        "id": "IKdYoULj9n8O"
      },
      "execution_count": 48,
      "outputs": []
    },
    {
      "cell_type": "code",
      "source": [
        "premiered"
      ],
      "metadata": {
        "colab": {
          "base_uri": "https://localhost:8080/"
        },
        "id": "3WcIExeU9n52",
        "outputId": "8777cffa-edd3-4a7a-fb97-dc4c41c6dad9"
      },
      "execution_count": 49,
      "outputs": [
        {
          "output_type": "execute_result",
          "data": {
            "text/plain": [
              "['2012-04-15', '1966-09-08', '2010-10-31']"
            ]
          },
          "metadata": {},
          "execution_count": 49
        }
      ]
    },
    {
      "cell_type": "code",
      "source": [
        "ended"
      ],
      "metadata": {
        "colab": {
          "base_uri": "https://localhost:8080/"
        },
        "id": "k3acC1om9n3N",
        "outputId": "02087976-8b45-4e1e-8917-43225849aa7d"
      },
      "execution_count": 50,
      "outputs": [
        {
          "output_type": "execute_result",
          "data": {
            "text/plain": [
              "['2017-04-16', '1969-06-03', None]"
            ]
          },
          "metadata": {},
          "execution_count": 50
        }
      ]
    },
    {
      "cell_type": "code",
      "source": [
        "rating"
      ],
      "metadata": {
        "colab": {
          "base_uri": "https://localhost:8080/"
        },
        "id": "PTNATOdc9n0l",
        "outputId": "99cc3305-821d-4b19-a0de-4b8ad550e669"
      },
      "execution_count": 51,
      "outputs": [
        {
          "output_type": "execute_result",
          "data": {
            "text/plain": [
              "[{'average': 6.7}, {'average': 8.4}, {'average': 8}]"
            ]
          },
          "metadata": {},
          "execution_count": 51
        }
      ]
    },
    {
      "cell_type": "code",
      "source": [
        "genres"
      ],
      "metadata": {
        "colab": {
          "base_uri": "https://localhost:8080/"
        },
        "id": "OyJUzY599nyC",
        "outputId": "05bfb836-dfef-40ef-ebf8-5e028dd7fee1"
      },
      "execution_count": 52,
      "outputs": [
        {
          "output_type": "execute_result",
          "data": {
            "text/plain": [
              "[['Drama', 'Romance'],\n",
              " ['Action', 'Adventure', 'Science-Fiction'],\n",
              " ['Drama', 'Action', 'Horror']]"
            ]
          },
          "metadata": {},
          "execution_count": 52
        }
      ]
    },
    {
      "cell_type": "code",
      "source": [
        "from openpyxl import *\n",
        "from openpyxl.utils import get_column_letter"
      ],
      "metadata": {
        "id": "3T-D3C-D-N5u"
      },
      "execution_count": 53,
      "outputs": []
    },
    {
      "cell_type": "code",
      "source": [
        "shows3 = Workbook()\n",
        "\n",
        "ws = shows3.active\n",
        "ws.title=\"Shows\""
      ],
      "metadata": {
        "id": "8O2HuIp6-N2O"
      },
      "execution_count": 72,
      "outputs": []
    },
    {
      "cell_type": "code",
      "source": [
        "headings = [\"Name\",\"Premiered\",\"Ended\",\"Rating\",\"Genres\"]\n",
        "ws.append(headings)"
      ],
      "metadata": {
        "id": "Upe_9nG0Cq38"
      },
      "execution_count": 73,
      "outputs": []
    },
    {
      "cell_type": "markdown",
      "source": [
        "premiered = []\n",
        "ended = []\n",
        "rating = []\n",
        "genres = []"
      ],
      "metadata": {
        "id": "yUxwhUMl-jbj"
      }
    },
    {
      "cell_type": "code",
      "source": [
        "series = [\"Girls\",\"Star Trek\",\"The Walking Dead\"]"
      ],
      "metadata": {
        "id": "L2letfxW-3oe"
      },
      "execution_count": 68,
      "outputs": []
    },
    {
      "cell_type": "code",
      "source": [
        "girls = [series[0] , premiered[0],ended[0],str(rating[0]),str(genres[0])]\n",
        "star_trek = [series[1] , premiered[1],ended[1],str(rating[1]),str(genres[1])]\n",
        "the_walking_dead = [series[2] , premiered[2],ended[2],str(rating[1]),str(genres[2])]"
      ],
      "metadata": {
        "id": "o6VqUFC--_il"
      },
      "execution_count": 79,
      "outputs": []
    },
    {
      "cell_type": "code",
      "source": [
        "ws.append(girls)\n",
        "ws.append(star_trek)\n",
        "ws.append(the_walking_dead)"
      ],
      "metadata": {
        "id": "_ecjNdju-Nvb"
      },
      "execution_count": 80,
      "outputs": []
    },
    {
      "cell_type": "code",
      "source": [
        "shows3.save(\"shows3.xlsx\")"
      ],
      "metadata": {
        "id": "-itN8cP8-Ns-"
      },
      "execution_count": 81,
      "outputs": []
    }
  ]
}